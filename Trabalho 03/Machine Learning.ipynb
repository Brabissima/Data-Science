{
 "cells": [
  {
   "cell_type": "code",
   "execution_count": 1,
   "id": "80db5c74",
   "metadata": {},
   "outputs": [],
   "source": [
    "import pandas as pd\n",
    "import numpy as np"
   ]
  },
  {
   "cell_type": "code",
   "execution_count": 2,
   "id": "f5a94b54",
   "metadata": {},
   "outputs": [],
   "source": [
    "lista_espera = pd.read_csv('resultado_lista_de_espera.csv')\n",
    "del lista_espera['Unnamed: 0']"
   ]
  },
  {
   "cell_type": "code",
   "execution_count": 3,
   "id": "0163ef66",
   "metadata": {},
   "outputs": [
    {
     "data": {
      "text/html": [
       "<div>\n",
       "<style scoped>\n",
       "    .dataframe tbody tr th:only-of-type {\n",
       "        vertical-align: middle;\n",
       "    }\n",
       "\n",
       "    .dataframe tbody tr th {\n",
       "        vertical-align: top;\n",
       "    }\n",
       "\n",
       "    .dataframe thead th {\n",
       "        text-align: right;\n",
       "    }\n",
       "</style>\n",
       "<table border=\"1\" class=\"dataframe\">\n",
       "  <thead>\n",
       "    <tr style=\"text-align: right;\">\n",
       "      <th></th>\n",
       "      <th>Classif.</th>\n",
       "      <th>Inscr. Enem</th>\n",
       "      <th>Nome do Candidato</th>\n",
       "      <th>Nota</th>\n",
       "      <th>Unidade</th>\n",
       "      <th>Curso</th>\n",
       "      <th>Tipo Curso</th>\n",
       "      <th>Turno</th>\n",
       "      <th>Categoria Concorrência</th>\n",
       "      <th>Situação</th>\n",
       "    </tr>\n",
       "  </thead>\n",
       "  <tbody>\n",
       "    <tr>\n",
       "      <th>0</th>\n",
       "      <td>1</td>\n",
       "      <td>211010235888</td>\n",
       "      <td>ANA LUIZA LEMOS DE OLIVEIRA</td>\n",
       "      <td>642.84</td>\n",
       "      <td>Crateús</td>\n",
       "      <td>Ciência da Computação</td>\n",
       "      <td>Bacharelado</td>\n",
       "      <td>Integral</td>\n",
       "      <td>Ampla Concorrência</td>\n",
       "      <td>CLASSIFICADO</td>\n",
       "    </tr>\n",
       "    <tr>\n",
       "      <th>1</th>\n",
       "      <td>2</td>\n",
       "      <td>211015922282</td>\n",
       "      <td>KAIO LUCAS ARAUJO SILVA</td>\n",
       "      <td>642.12</td>\n",
       "      <td>Crateús</td>\n",
       "      <td>Ciência da Computação</td>\n",
       "      <td>Bacharelado</td>\n",
       "      <td>Integral</td>\n",
       "      <td>Ampla Concorrência</td>\n",
       "      <td>CLASSIFICADO</td>\n",
       "    </tr>\n",
       "    <tr>\n",
       "      <th>2</th>\n",
       "      <td>3</td>\n",
       "      <td>211010875618</td>\n",
       "      <td>MIGUEL BARBOSA FARIAS</td>\n",
       "      <td>636.64</td>\n",
       "      <td>Crateús</td>\n",
       "      <td>Ciência da Computação</td>\n",
       "      <td>Bacharelado</td>\n",
       "      <td>Integral</td>\n",
       "      <td>Ampla Concorrência</td>\n",
       "      <td>CLASSIFICADO</td>\n",
       "    </tr>\n",
       "    <tr>\n",
       "      <th>3</th>\n",
       "      <td>4</td>\n",
       "      <td>211005465250</td>\n",
       "      <td>RAONNY DELLANO MACEDO</td>\n",
       "      <td>633.18</td>\n",
       "      <td>Crateús</td>\n",
       "      <td>Ciência da Computação</td>\n",
       "      <td>Bacharelado</td>\n",
       "      <td>Integral</td>\n",
       "      <td>Ampla Concorrência</td>\n",
       "      <td>CLASSIFICADO</td>\n",
       "    </tr>\n",
       "    <tr>\n",
       "      <th>4</th>\n",
       "      <td>5</td>\n",
       "      <td>211015847166</td>\n",
       "      <td>KAIO VIEIRA NUNES</td>\n",
       "      <td>632.72</td>\n",
       "      <td>Crateús</td>\n",
       "      <td>Ciência da Computação</td>\n",
       "      <td>Bacharelado</td>\n",
       "      <td>Integral</td>\n",
       "      <td>Ampla Concorrência</td>\n",
       "      <td>CLASSIFICADO</td>\n",
       "    </tr>\n",
       "  </tbody>\n",
       "</table>\n",
       "</div>"
      ],
      "text/plain": [
       "   Classif.   Inscr. Enem            Nome do Candidato    Nota  Unidade  \\\n",
       "0         1  211010235888  ANA LUIZA LEMOS DE OLIVEIRA  642.84  Crateús   \n",
       "1         2  211015922282      KAIO LUCAS ARAUJO SILVA  642.12  Crateús   \n",
       "2         3  211010875618        MIGUEL BARBOSA FARIAS  636.64  Crateús   \n",
       "3         4  211005465250        RAONNY DELLANO MACEDO  633.18  Crateús   \n",
       "4         5  211015847166            KAIO VIEIRA NUNES  632.72  Crateús   \n",
       "\n",
       "                   Curso   Tipo Curso     Turno Categoria Concorrência  \\\n",
       "0  Ciência da Computação  Bacharelado  Integral     Ampla Concorrência   \n",
       "1  Ciência da Computação  Bacharelado  Integral     Ampla Concorrência   \n",
       "2  Ciência da Computação  Bacharelado  Integral     Ampla Concorrência   \n",
       "3  Ciência da Computação  Bacharelado  Integral     Ampla Concorrência   \n",
       "4  Ciência da Computação  Bacharelado  Integral     Ampla Concorrência   \n",
       "\n",
       "       Situação  \n",
       "0  CLASSIFICADO  \n",
       "1  CLASSIFICADO  \n",
       "2  CLASSIFICADO  \n",
       "3  CLASSIFICADO  \n",
       "4  CLASSIFICADO  "
      ]
     },
     "execution_count": 3,
     "metadata": {},
     "output_type": "execute_result"
    }
   ],
   "source": [
    "lista_espera.head()"
   ]
  },
  {
   "cell_type": "code",
   "execution_count": 4,
   "id": "3cfebbd9",
   "metadata": {},
   "outputs": [
    {
     "data": {
      "text/plain": [
       "NÃO CLASSIFICADO      39717\n",
       "CLASSIFICADO           2366\n",
       "CLASSIFICADO NA AC      204\n",
       "Name: Situação, dtype: int64"
      ]
     },
     "execution_count": 4,
     "metadata": {},
     "output_type": "execute_result"
    }
   ],
   "source": [
    "lista_espera['Situação'].value_counts()"
   ]
  },
  {
   "cell_type": "markdown",
   "id": "e323af88",
   "metadata": {},
   "source": [
    "# One Hot Encoding"
   ]
  },
  {
   "cell_type": "code",
   "execution_count": 5,
   "id": "5275baa4",
   "metadata": {},
   "outputs": [],
   "source": [
    "df = lista_espera.copy()\n",
    "df.replace({'CLASSIFICADO': 1, 'CLASSIFICADO NA AC': 1, 'NÃO CLASSIFICADO': 0},\n",
    "           inplace = True)\n",
    "df = pd.get_dummies(df[df.columns[3:]]) \n",
    "situacao = df['Situação']\n",
    "df.drop('Situação', axis=1, inplace=True)\n",
    "df['Situação'] = situacao"
   ]
  },
  {
   "cell_type": "code",
   "execution_count": 6,
   "id": "973520ee",
   "metadata": {},
   "outputs": [
    {
     "data": {
      "text/html": [
       "<div>\n",
       "<style scoped>\n",
       "    .dataframe tbody tr th:only-of-type {\n",
       "        vertical-align: middle;\n",
       "    }\n",
       "\n",
       "    .dataframe tbody tr th {\n",
       "        vertical-align: top;\n",
       "    }\n",
       "\n",
       "    .dataframe thead th {\n",
       "        text-align: right;\n",
       "    }\n",
       "</style>\n",
       "<table border=\"1\" class=\"dataframe\">\n",
       "  <thead>\n",
       "    <tr style=\"text-align: right;\">\n",
       "      <th></th>\n",
       "      <th>Nota</th>\n",
       "      <th>Unidade_Crateús</th>\n",
       "      <th>Unidade_Fortaleza</th>\n",
       "      <th>Unidade_Itapajé</th>\n",
       "      <th>Unidade_Quixadá</th>\n",
       "      <th>Unidade_Russas</th>\n",
       "      <th>Unidade_Sobral</th>\n",
       "      <th>Curso_Administração</th>\n",
       "      <th>Curso_Agronomia</th>\n",
       "      <th>Curso_Análise e Desenvolvimento de Sistemas</th>\n",
       "      <th>...</th>\n",
       "      <th>Categoria Concorrência_Ampla Concorrência</th>\n",
       "      <th>Categoria Concorrência_L1</th>\n",
       "      <th>Categoria Concorrência_L10</th>\n",
       "      <th>Categoria Concorrência_L13</th>\n",
       "      <th>Categoria Concorrência_L14</th>\n",
       "      <th>Categoria Concorrência_L2</th>\n",
       "      <th>Categoria Concorrência_L5</th>\n",
       "      <th>Categoria Concorrência_L6</th>\n",
       "      <th>Categoria Concorrência_L9</th>\n",
       "      <th>Situação</th>\n",
       "    </tr>\n",
       "  </thead>\n",
       "  <tbody>\n",
       "    <tr>\n",
       "      <th>0</th>\n",
       "      <td>642.84</td>\n",
       "      <td>1</td>\n",
       "      <td>0</td>\n",
       "      <td>0</td>\n",
       "      <td>0</td>\n",
       "      <td>0</td>\n",
       "      <td>0</td>\n",
       "      <td>0</td>\n",
       "      <td>0</td>\n",
       "      <td>0</td>\n",
       "      <td>...</td>\n",
       "      <td>1</td>\n",
       "      <td>0</td>\n",
       "      <td>0</td>\n",
       "      <td>0</td>\n",
       "      <td>0</td>\n",
       "      <td>0</td>\n",
       "      <td>0</td>\n",
       "      <td>0</td>\n",
       "      <td>0</td>\n",
       "      <td>1</td>\n",
       "    </tr>\n",
       "    <tr>\n",
       "      <th>1</th>\n",
       "      <td>642.12</td>\n",
       "      <td>1</td>\n",
       "      <td>0</td>\n",
       "      <td>0</td>\n",
       "      <td>0</td>\n",
       "      <td>0</td>\n",
       "      <td>0</td>\n",
       "      <td>0</td>\n",
       "      <td>0</td>\n",
       "      <td>0</td>\n",
       "      <td>...</td>\n",
       "      <td>1</td>\n",
       "      <td>0</td>\n",
       "      <td>0</td>\n",
       "      <td>0</td>\n",
       "      <td>0</td>\n",
       "      <td>0</td>\n",
       "      <td>0</td>\n",
       "      <td>0</td>\n",
       "      <td>0</td>\n",
       "      <td>1</td>\n",
       "    </tr>\n",
       "    <tr>\n",
       "      <th>2</th>\n",
       "      <td>636.64</td>\n",
       "      <td>1</td>\n",
       "      <td>0</td>\n",
       "      <td>0</td>\n",
       "      <td>0</td>\n",
       "      <td>0</td>\n",
       "      <td>0</td>\n",
       "      <td>0</td>\n",
       "      <td>0</td>\n",
       "      <td>0</td>\n",
       "      <td>...</td>\n",
       "      <td>1</td>\n",
       "      <td>0</td>\n",
       "      <td>0</td>\n",
       "      <td>0</td>\n",
       "      <td>0</td>\n",
       "      <td>0</td>\n",
       "      <td>0</td>\n",
       "      <td>0</td>\n",
       "      <td>0</td>\n",
       "      <td>1</td>\n",
       "    </tr>\n",
       "    <tr>\n",
       "      <th>3</th>\n",
       "      <td>633.18</td>\n",
       "      <td>1</td>\n",
       "      <td>0</td>\n",
       "      <td>0</td>\n",
       "      <td>0</td>\n",
       "      <td>0</td>\n",
       "      <td>0</td>\n",
       "      <td>0</td>\n",
       "      <td>0</td>\n",
       "      <td>0</td>\n",
       "      <td>...</td>\n",
       "      <td>1</td>\n",
       "      <td>0</td>\n",
       "      <td>0</td>\n",
       "      <td>0</td>\n",
       "      <td>0</td>\n",
       "      <td>0</td>\n",
       "      <td>0</td>\n",
       "      <td>0</td>\n",
       "      <td>0</td>\n",
       "      <td>1</td>\n",
       "    </tr>\n",
       "    <tr>\n",
       "      <th>4</th>\n",
       "      <td>632.72</td>\n",
       "      <td>1</td>\n",
       "      <td>0</td>\n",
       "      <td>0</td>\n",
       "      <td>0</td>\n",
       "      <td>0</td>\n",
       "      <td>0</td>\n",
       "      <td>0</td>\n",
       "      <td>0</td>\n",
       "      <td>0</td>\n",
       "      <td>...</td>\n",
       "      <td>1</td>\n",
       "      <td>0</td>\n",
       "      <td>0</td>\n",
       "      <td>0</td>\n",
       "      <td>0</td>\n",
       "      <td>0</td>\n",
       "      <td>0</td>\n",
       "      <td>0</td>\n",
       "      <td>0</td>\n",
       "      <td>1</td>\n",
       "    </tr>\n",
       "  </tbody>\n",
       "</table>\n",
       "<p>5 rows × 109 columns</p>\n",
       "</div>"
      ],
      "text/plain": [
       "     Nota  Unidade_Crateús  Unidade_Fortaleza  Unidade_Itapajé  \\\n",
       "0  642.84                1                  0                0   \n",
       "1  642.12                1                  0                0   \n",
       "2  636.64                1                  0                0   \n",
       "3  633.18                1                  0                0   \n",
       "4  632.72                1                  0                0   \n",
       "\n",
       "   Unidade_Quixadá  Unidade_Russas  Unidade_Sobral  Curso_Administração  \\\n",
       "0                0               0               0                    0   \n",
       "1                0               0               0                    0   \n",
       "2                0               0               0                    0   \n",
       "3                0               0               0                    0   \n",
       "4                0               0               0                    0   \n",
       "\n",
       "   Curso_Agronomia  Curso_Análise e Desenvolvimento de Sistemas  ...  \\\n",
       "0                0                                            0  ...   \n",
       "1                0                                            0  ...   \n",
       "2                0                                            0  ...   \n",
       "3                0                                            0  ...   \n",
       "4                0                                            0  ...   \n",
       "\n",
       "   Categoria Concorrência_Ampla Concorrência  Categoria Concorrência_L1  \\\n",
       "0                                          1                          0   \n",
       "1                                          1                          0   \n",
       "2                                          1                          0   \n",
       "3                                          1                          0   \n",
       "4                                          1                          0   \n",
       "\n",
       "   Categoria Concorrência_L10  Categoria Concorrência_L13  \\\n",
       "0                           0                           0   \n",
       "1                           0                           0   \n",
       "2                           0                           0   \n",
       "3                           0                           0   \n",
       "4                           0                           0   \n",
       "\n",
       "   Categoria Concorrência_L14  Categoria Concorrência_L2  \\\n",
       "0                           0                          0   \n",
       "1                           0                          0   \n",
       "2                           0                          0   \n",
       "3                           0                          0   \n",
       "4                           0                          0   \n",
       "\n",
       "   Categoria Concorrência_L5  Categoria Concorrência_L6  \\\n",
       "0                          0                          0   \n",
       "1                          0                          0   \n",
       "2                          0                          0   \n",
       "3                          0                          0   \n",
       "4                          0                          0   \n",
       "\n",
       "   Categoria Concorrência_L9  Situação  \n",
       "0                          0         1  \n",
       "1                          0         1  \n",
       "2                          0         1  \n",
       "3                          0         1  \n",
       "4                          0         1  \n",
       "\n",
       "[5 rows x 109 columns]"
      ]
     },
     "execution_count": 6,
     "metadata": {},
     "output_type": "execute_result"
    }
   ],
   "source": [
    "df.head()"
   ]
  },
  {
   "cell_type": "markdown",
   "id": "68384b1f",
   "metadata": {},
   "source": [
    "# Dividindo em treino e teste"
   ]
  },
  {
   "cell_type": "markdown",
   "id": "c49df3cd",
   "metadata": {},
   "source": [
    "Embaralhando os dados e os separando em 80% treino e 20% teste "
   ]
  },
  {
   "cell_type": "code",
   "execution_count": 7,
   "id": "a6da9717",
   "metadata": {},
   "outputs": [],
   "source": [
    "df = df.loc[np.random.permutation(df.index)]\n",
    "div_point = int(len(df)*0.8)\n",
    "df_treino = df.iloc[:div_point]\n",
    "df_teste = df.iloc[div_point:]"
   ]
  },
  {
   "cell_type": "markdown",
   "id": "9683c7b0",
   "metadata": {},
   "source": [
    "# Random Forest"
   ]
  },
  {
   "cell_type": "code",
   "execution_count": 8,
   "id": "eb782f71",
   "metadata": {},
   "outputs": [],
   "source": [
    "import matplotlib.pyplot as plt\n",
    "from sklearn.ensemble import RandomForestClassifier\n",
    "from sklearn.model_selection import GridSearchCV\n",
    "from sklearn.metrics import f1_score\n",
    "from sklearn.metrics import plot_roc_curve\n",
    "from sklearn.metrics import confusion_matrix"
   ]
  },
  {
   "cell_type": "code",
   "execution_count": 19,
   "id": "6c88459a",
   "metadata": {},
   "outputs": [
    {
     "data": {
      "text/plain": [
       "GridSearchCV(estimator=RandomForestClassifier(),\n",
       "             param_grid={'criterion': ('gini', 'entropy'),\n",
       "                         'max_depth': (4, 6, 8, 10, 12),\n",
       "                         'n_estimators': (50, 100, 150)})"
      ]
     },
     "execution_count": 19,
     "metadata": {},
     "output_type": "execute_result"
    }
   ],
   "source": [
    "rf = RandomForestClassifier()\n",
    "parametros = {'n_estimators': (50, 100, 150), \n",
    "              'criterion': ('gini', 'entropy'),\n",
    "              'max_depth': (4, 6, 8, 10, 12)}\n",
    "gs = GridSearchCV(rf, parametros)\n",
    "gs.fit(df_treino[df_treino.columns[:-1]], df_treino[df_treino.columns[-1]])"
   ]
  },
  {
   "cell_type": "code",
   "execution_count": 20,
   "id": "003bbccc",
   "metadata": {},
   "outputs": [
    {
     "data": {
      "text/plain": [
       "{'criterion': 'gini', 'max_depth': 12, 'n_estimators': 50}"
      ]
     },
     "execution_count": 20,
     "metadata": {},
     "output_type": "execute_result"
    }
   ],
   "source": [
    "gs.best_params_"
   ]
  },
  {
   "cell_type": "code",
   "execution_count": 21,
   "id": "0426b1a4",
   "metadata": {},
   "outputs": [
    {
     "data": {
      "text/plain": [
       "RandomForestClassifier()"
      ]
     },
     "execution_count": 21,
     "metadata": {},
     "output_type": "execute_result"
    }
   ],
   "source": [
    "rf.fit(df_treino[df_treino.columns[:-1]], df_treino[df_treino.columns[-1]])"
   ]
  },
  {
   "cell_type": "code",
   "execution_count": 22,
   "id": "ce488bb6",
   "metadata": {},
   "outputs": [
    {
     "data": {
      "text/plain": [
       "0.8794178794178794"
      ]
     },
     "execution_count": 22,
     "metadata": {},
     "output_type": "execute_result"
    }
   ],
   "source": [
    "y_pred = rf.predict(df_teste[df_teste.columns[:-1]])\n",
    "f1_score(np.array(df_teste[df_teste.columns[-1]]), y_pred)"
   ]
  },
  {
   "cell_type": "code",
   "execution_count": 23,
   "id": "e475671e",
   "metadata": {},
   "outputs": [
    {
     "data": {
      "text/html": [
       "<div>\n",
       "<style scoped>\n",
       "    .dataframe tbody tr th:only-of-type {\n",
       "        vertical-align: middle;\n",
       "    }\n",
       "\n",
       "    .dataframe tbody tr th {\n",
       "        vertical-align: top;\n",
       "    }\n",
       "\n",
       "    .dataframe thead th {\n",
       "        text-align: right;\n",
       "    }\n",
       "</style>\n",
       "<table border=\"1\" class=\"dataframe\">\n",
       "  <thead>\n",
       "    <tr style=\"text-align: right;\">\n",
       "      <th></th>\n",
       "      <th>Ñ CLASS</th>\n",
       "      <th>CLASS</th>\n",
       "    </tr>\n",
       "  </thead>\n",
       "  <tbody>\n",
       "    <tr>\n",
       "      <th>Ñ CLASS</th>\n",
       "      <td>7919</td>\n",
       "      <td>52</td>\n",
       "    </tr>\n",
       "    <tr>\n",
       "      <th>CLASS</th>\n",
       "      <td>64</td>\n",
       "      <td>423</td>\n",
       "    </tr>\n",
       "  </tbody>\n",
       "</table>\n",
       "</div>"
      ],
      "text/plain": [
       "         Ñ CLASS  CLASS\n",
       "Ñ CLASS     7919     52\n",
       "CLASS         64    423"
      ]
     },
     "execution_count": 23,
     "metadata": {},
     "output_type": "execute_result"
    }
   ],
   "source": [
    "confusion_mtx = confusion_matrix(np.array(df_teste[df_teste.columns[-1]]), y_pred)\n",
    "cm = pd.DataFrame(confusion_mtx, columns=['Ñ CLASS', 'CLASS'])\n",
    "cm.index = ['Ñ CLASS', 'CLASS']\n",
    "cm"
   ]
  },
  {
   "cell_type": "markdown",
   "id": "be99515e",
   "metadata": {},
   "source": [
    "### Área sob a curva ROC"
   ]
  },
  {
   "cell_type": "code",
   "execution_count": 24,
   "id": "e2c86a99",
   "metadata": {},
   "outputs": [
    {
     "data": {
      "image/png": "[encoded data removed]",
      "text/plain": [
       "<Figure size 432x288 with 1 Axes>"
      ]
     },
     "metadata": {
      "needs_background": "light"
     },
     "output_type": "display_data"
    }
   ],
   "source": [
    "plot_roc_curve(rf, np.array(df_teste[df_teste.columns[:-1]]), np.array(df_teste[df_teste.columns[-1]]))\n",
    "plt.show()"
   ]
  },
  {
   "cell_type": "markdown",
   "id": "9c66df21",
   "metadata": {},
   "source": [
    "# Consulta Diferencialmente Privada"
   ]
  },
  {
   "cell_type": "code",
   "execution_count": null,
   "id": "eefe678e",
   "metadata": {},
   "outputs": [],
   "source": []
  }
 ],
 "metadata": {
  "kernelspec": {
   "display_name": "Python 3",
   "language": "python",
   "name": "python3"
  },
  "language_info": {
   "codemirror_mode": {
    "name": "ipython",
    "version": 3
   },
   "file_extension": ".py",
   "mimetype": "text/x-python",
   "name": "python",
   "nbconvert_exporter": "python",
   "pygments_lexer": "ipython3",
   "version": "3.8.8"
  }
 },
 "nbformat": 4,
 "nbformat_minor": 5
}
