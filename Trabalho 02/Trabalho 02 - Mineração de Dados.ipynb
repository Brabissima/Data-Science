{
 "cells": [
  {
   "cell_type": "code",
   "execution_count": 1,
   "id": "6f794f25",
   "metadata": {},
   "outputs": [],
   "source": [
    "import numpy as np\n",
    "import pandas as pd\n",
    "import matplotlib.pyplot as plt\n",
    "import scipy.stats\n",
    "from scipy.stats import chi2_contingency\n",
    "import scipy.special as scsp\n",
    "from scipy.stats import ksone"
   ]
  },
  {
   "cell_type": "markdown",
   "id": "9a4575a8",
   "metadata": {},
   "source": [
    "### Leitura do dataset"
   ]
  },
  {
   "cell_type": "code",
   "execution_count": 2,
   "id": "87546248",
   "metadata": {},
   "outputs": [],
   "source": [
    "lista_espera = pd.read_csv('resultado_lista_de_espera.csv')\n",
    "lista_espera.drop('Unnamed: 0', axis=1, inplace=True)"
   ]
  },
  {
   "cell_type": "markdown",
   "id": "2adff19b",
   "metadata": {},
   "source": [
    "# Medidas de Tendência Central"
   ]
  },
  {
   "cell_type": "code",
   "execution_count": 3,
   "id": "4e22c25a",
   "metadata": {},
   "outputs": [],
   "source": [
    "def media_notas_por_atributo(dataset, atributo):\n",
    "    atributos = np.unique(dataset[atributo])\n",
    "    media_atrib = {}\n",
    "    for atrib in atributos:\n",
    "        media_atrib[atrib] = np.mean(dataset['Nota'][dataset[atributo] == atrib])\n",
    "    return media_atrib\n",
    "\n",
    "def media_classificados_atributo(dataset, atributo):\n",
    "    classificados = pd.concat([dataset[dataset['Situação'] == 'CLASSIFICADO'], dataset[dataset['Situação'] == 'CLASSIFICADO NA AC']])\n",
    "    atributos = np.unique(lista_espera[atributo])\n",
    "    media_classificados_atrib = {}\n",
    "    for atrib in atributos:\n",
    "        media_classificados_atrib[atrib] = np.mean(classificados['Nota'][classificados[atributo] == atrib])\n",
    "    \n",
    "    return media_classificados_atrib"
   ]
  },
  {
   "cell_type": "code",
   "execution_count": 4,
   "id": "7c88c833",
   "metadata": {},
   "outputs": [],
   "source": [
    "def medidas_tendencia_central(dataset):\n",
    "    def mediana(dataset):\n",
    "        notas_ordenadas = sorted(dataset['Nota'])\n",
    "        return (notas_ordenadas[int(len(notas_ordenadas)/2)-1]+notas_ordenadas[int(len(notas_ordenadas)/2)])/2\n",
    "    \n",
    "    media_por_curso = media_notas_por_atributo(dataset, 'Curso')\n",
    "    media_classif_curso = media_classificados_atributo(dataset, 'Curso')\n",
    "    media_por_unidade = media_notas_por_atributo(dataset, 'Unidade')\n",
    "    media_classif_unidade = media_classificados_atributo(dataset, 'Unidade')\n",
    "    sep = '*'*40\n",
    "    classificados = pd.concat([dataset[dataset['Situação'] == 'CLASSIFICADO'], dataset[dataset['Situação'] == 'CLASSIFICADO NA AC']])\n",
    "    \n",
    "    print('\\n\\n{} MÉDIA ARITMÉTICA {}\\n\\nMédia das notas dos classificados entre cursos:\\n{}\\n\\nMédia das notas dos classificados entre as unidades:\\n{}'.format(sep, sep, media_classif_curso, media_classif_unidade))\n",
    "    print('\\n\\n{} MEDIANA {}\\n\\nMediana das notas em geral: {}\\nMediana das notas dos classificados: {}'.format(sep, sep, mediana(dataset), mediana(classificados)))\n",
    "    print('\\n\\n{} NOTAS MÁXIMA E MÍNIMA {}\\n\\nNota máxima: {}\\nNota mínima: {}'.format(sep, sep, max(dataset['Nota']), min(dataset['Nota'])))"
   ]
  },
  {
   "cell_type": "markdown",
   "id": "e3522199",
   "metadata": {},
   "source": [
    "### Resultados"
   ]
  },
  {
   "cell_type": "code",
   "execution_count": 5,
   "id": "5ad4e4b1",
   "metadata": {},
   "outputs": [
    {
     "name": "stdout",
     "output_type": "stream",
     "text": [
      "\n",
      "\n",
      "**************************************** MÉDIA ARITMÉTICA ****************************************\n",
      "\n",
      "Média das notas dos classificados entre cursos:\n",
      "{'Administração': 652.0701639344261, 'Agronomia': 597.3422641509435, 'Análise e Desenvolvimento de Sistemas': 588.1752380952381, 'Arquitetura e Urbanismo': 678.7317647058824, 'Biblioteconomia': 604.0924137931036, 'Biotecnologia': 665.6691666666667, 'Cinema e Audiovisual': 648.7725, 'Ciência da Computação': 620.7372549019608, 'Ciência de Dados': 560.1930434782608, 'Ciências Ambientais': 603.4980952380952, 'Ciências Atuariais': 621.8171428571429, 'Ciências Biológicas - Bacharelado': 657.4344444444445, 'Ciências Biológicas - Licenciatura': 652.26625, 'Ciências Contábeis': 639.8805, 'Ciências Econômicas': 644.5202857142856, 'Ciências Sociais – Bacharelado': 607.644, 'Ciências Sociais – Licenciatura': 602.0186666666667, 'Comunicação Social - Publicidade e Propaganda': 670.988, 'Dança – Bacharelado': 579.2583333333333, 'Dança – Licenciatura': 590.6025000000001, 'Design': 675.1885714285714, 'Design - Moda': 645.0423999999998, 'Design Digital': 612.7307142857143, 'Direito': 715.8302970297032, 'Economia Ecológica': 589.3933333333331, 'Educação Física – Bacharelado': 627.5606896551725, 'Educação Física – Licenciatura': 612.7963636363636, 'Enfermagem': 694.0672222222222, 'Engenharia Ambiental': 651.1857142857142, 'Engenharia Ambiental e Sanitária': 575.490303030303, 'Engenharia Civil': 632.8152631578946, 'Engenharia Elétrica': 639.5968888888891, 'Engenharia Mecânica': 613.4054545454545, 'Engenharia Metalúrgica': 622.0199999999999, 'Engenharia Química': 652.1670588235295, 'Engenharia de Alimentos': 603.651111111111, 'Engenharia de Computação': 646.8029729729731, 'Engenharia de Energias Renováveis': 670.82, 'Engenharia de Minas': 560.4300000000001, 'Engenharia de Pesca': 593.571304347826, 'Engenharia de Petróleo': 637.375238095238, 'Engenharia de Produção': 571.8899999999998, 'Engenharia de Produção Mecânica': 637.78625, 'Engenharia de Software': 604.0580821917807, 'Engenharia de Telecomunicações': 615.2613333333334, 'Estatística': 599.0661538461535, 'Farmácia': 685.7781818181818, 'Filosofia – Bacharelado': 604.7566666666667, 'Filosofia – Licenciatura': 605.8094117647059, 'Finanças': 631.1070270270269, 'Fisioterapia': 673.4562499999998, 'Física – Bacharelado': 628.06, 'Física – Licenciatura': 599.0231578947368, 'Gastronomia': 640.0490909090909, 'Geografia – Bacharelado': 611.0466666666666, 'Geografia – Licenciatura': 593.9733333333334, 'Geologia': 602.1219047619047, 'Gestão de Políticas Públicas': 615.0164705882353, 'História – Licenciatura': 633.3154838709677, 'Jornalismo': 667.7893333333333, 'Letras (Espanhol)': 595.2320000000001, 'Letras (Inglês)': 625.570588235294, 'Letras (Língua Portuguesa)': 618.4084615384617, 'Letras (Português-Alemão)': 585.9085714285715, 'Letras (Português-Espanhol)': 600.6272727272727, 'Letras (Português-Francês)': 598.488, 'Letras (Português-Inglês)': 622.1076923076923, 'Letras (Português-Italiano)': 593.730909090909, 'Matemática Industrial': 576.3533333333332, 'Matemática – Bacharelado': 601.0116666666667, 'Matemática – Licenciatura': 605.6220000000001, 'Medicina': 759.9165517241378, 'Música – Licenciatura': 575.1424137931036, 'Oceanografia': 612.6085714285716, 'Odontologia': 716.3586206896553, 'Pedagogia': 604.97125, 'Psicologia': 696.8866666666667, 'Química – Bacharelado': 626.7634782608693, 'Química – Licenciatura': 607.4019047619048, 'Redes de Computadores': 561.6770370370372, 'Secretariado Executivo': 613.4529411764705, 'Segurança da Informação': 545.1218181818181, 'Sistemas de Informação': 591.6973913043479, 'Sistemas e Mídias Digitais': 660.7214285714286, 'Teatro – Licenciatura': 588.4399999999999, 'Zootecnia': 610.6062068965515}\n",
      "\n",
      "Média das notas dos classificados entre as unidades:\n",
      "{'Crateús': 591.6850349650352, 'Fortaleza': 637.4718201997771, 'Itapajé': 564.0727272727273, 'Quixadá': 599.7007079646017, 'Russas': 588.2585520361991, 'Sobral': 648.2688}\n",
      "\n",
      "\n",
      "**************************************** MEDIANA ****************************************\n",
      "\n",
      "Mediana das notas em geral: 544.86\n",
      "Mediana das notas dos classificados: 622.9200000000001\n",
      "\n",
      "\n",
      "**************************************** NOTAS MÁXIMA E MÍNIMA ****************************************\n",
      "\n",
      "Nota máxima: 802.2\n",
      "Nota mínima: 324.24\n"
     ]
    }
   ],
   "source": [
    "medidas_tendencia_central(lista_espera)"
   ]
  },
  {
   "cell_type": "markdown",
   "id": "221d1894",
   "metadata": {},
   "source": [
    "# Boxplot"
   ]
  },
  {
   "cell_type": "markdown",
   "id": "04616dd7",
   "metadata": {},
   "source": [
    "### Boxplot das notas"
   ]
  },
  {
   "cell_type": "code",
   "execution_count": 6,
   "id": "ee181a82",
   "metadata": {},
   "outputs": [],
   "source": [
    "def boxplot(entrada):\n",
    "    plt.boxplot(np.array(list(entrada)))\n",
    "    plt.show()"
   ]
  },
  {
   "cell_type": "code",
   "execution_count": 7,
   "id": "3c1496b0",
   "metadata": {},
   "outputs": [
    {
     "name": "stdout",
     "output_type": "stream",
     "text": [
      "\n",
      "\tBOXPLOT DAS NOTAS MÉDIAS POR CURSO\n"
     ]
    },
    {
     "data": {
      "image/png": "[encoded data removed]",
      "text/plain": [
       "<Figure size 432x288 with 1 Axes>"
      ]
     },
     "metadata": {
      "needs_background": "light"
     },
     "output_type": "display_data"
    }
   ],
   "source": [
    "media_por_curso = media_notas_por_atributo(lista_espera, 'Curso')\n",
    "media_classif_curso = media_classificados_atributo(lista_espera, 'Curso')\n",
    "media_por_unidade = media_notas_por_atributo(lista_espera, 'Unidade')\n",
    "media_classif_unidade = media_classificados_atributo(lista_espera, 'Unidade')\n",
    "\n",
    "print('\\n\\tBOXPLOT DAS NOTAS MÉDIAS POR CURSO')\n",
    "boxplot_curso = boxplot(media_classif_curso.values())"
   ]
  },
  {
   "cell_type": "code",
   "execution_count": 8,
   "id": "17365689",
   "metadata": {},
   "outputs": [
    {
     "name": "stdout",
     "output_type": "stream",
     "text": [
      "\n",
      "\tBOXPLOT DAS NOTAS MÉDIAS POR UNIDADE\n"
     ]
    },
    {
     "data": {
      "image/png": "[encoded data removed]",
      "text/plain": [
       "<Figure size 432x288 with 1 Axes>"
      ]
     },
     "metadata": {
      "needs_background": "light"
     },
     "output_type": "display_data"
    }
   ],
   "source": [
    "print('\\n\\tBOXPLOT DAS NOTAS MÉDIAS POR UNIDADE')\n",
    "boxplot_unidade = boxplot(media_classif_unidade.values())"
   ]
  },
  {
   "cell_type": "markdown",
   "id": "444c1f05",
   "metadata": {},
   "source": [
    "# Histogramas"
   ]
  },
  {
   "cell_type": "markdown",
   "id": "8807f5cf",
   "metadata": {},
   "source": [
    "### Histograma da frequência de candidaturas por concorrência"
   ]
  },
  {
   "cell_type": "code",
   "execution_count": 9,
   "id": "1ba8e75e",
   "metadata": {},
   "outputs": [],
   "source": [
    "def histograma_categoria(dataset, attr_categoria):    \n",
    "    distribuicao_frequencia = dataset[attr_categoria].value_counts()\n",
    "    \n",
    "    # tabela de frequência\n",
    "    print('\\n\\n{}\\n\\nTabela de Frequência'.format('*'*100))\n",
    "    display(pd.DataFrame(distribuicao_frequencia))\n",
    "    \n",
    "    # histograma\n",
    "    print('\\n\\n{}\\n\\nHistograma Original \\n'.format('*'*100))\n",
    "    original_hist = plt.barh(np.array(distribuicao_frequencia.keys()), distribuicao_frequencia.values)\n",
    "    plt.xlabel('Quantidade de candidatos')\n",
    "    plt.ylabel('Categoria da concorrência')\n",
    "    plt.title('Distribuição de frequência por categoria')\n",
    "    plt.show()\n",
    "    \n",
    "    # constructing bars with log value to see the bar of categories which has not appeared so frequently\n",
    "    print('\\n\\n{}\\n\\nHistograma com Log \\n'.format('*'*100))\n",
    "    log_values = np.log(distribuicao_frequencia.values)\n",
    "    plt.xlabel('Quantidade de candidatos na escala log')\n",
    "    plt.ylabel('Categoria da concorrência')\n",
    "    plt.title('Distribuição de frequência por categoria')\n",
    "    log_hist = plt.barh(np.array(distribuicao_frequencia.keys()), log_values)\n",
    "    plt.show()"
   ]
  },
  {
   "cell_type": "code",
   "execution_count": 10,
   "id": "36656681",
   "metadata": {
    "scrolled": true
   },
   "outputs": [
    {
     "name": "stdout",
     "output_type": "stream",
     "text": [
      "\n",
      "\n",
      "****************************************************************************************************\n",
      "\n",
      "Tabela de Frequência\n"
     ]
    },
    {
     "data": {
      "text/html": [
       "<div>\n",
       "<style scoped>\n",
       "    .dataframe tbody tr th:only-of-type {\n",
       "        vertical-align: middle;\n",
       "    }\n",
       "\n",
       "    .dataframe tbody tr th {\n",
       "        vertical-align: top;\n",
       "    }\n",
       "\n",
       "    .dataframe thead th {\n",
       "        text-align: right;\n",
       "    }\n",
       "</style>\n",
       "<table border=\"1\" class=\"dataframe\">\n",
       "  <thead>\n",
       "    <tr style=\"text-align: right;\">\n",
       "      <th></th>\n",
       "      <th>Categoria Concorrência</th>\n",
       "    </tr>\n",
       "  </thead>\n",
       "  <tbody>\n",
       "    <tr>\n",
       "      <th>Ampla Concorrência</th>\n",
       "      <td>26458</td>\n",
       "    </tr>\n",
       "    <tr>\n",
       "      <th>L2</th>\n",
       "      <td>6089</td>\n",
       "    </tr>\n",
       "    <tr>\n",
       "      <th>L1</th>\n",
       "      <td>3444</td>\n",
       "    </tr>\n",
       "    <tr>\n",
       "      <th>L6</th>\n",
       "      <td>3311</td>\n",
       "    </tr>\n",
       "    <tr>\n",
       "      <th>L5</th>\n",
       "      <td>2817</td>\n",
       "    </tr>\n",
       "    <tr>\n",
       "      <th>L10</th>\n",
       "      <td>65</td>\n",
       "    </tr>\n",
       "    <tr>\n",
       "      <th>L13</th>\n",
       "      <td>35</td>\n",
       "    </tr>\n",
       "    <tr>\n",
       "      <th>L9</th>\n",
       "      <td>34</td>\n",
       "    </tr>\n",
       "    <tr>\n",
       "      <th>L14</th>\n",
       "      <td>34</td>\n",
       "    </tr>\n",
       "  </tbody>\n",
       "</table>\n",
       "</div>"
      ],
      "text/plain": [
       "                    Categoria Concorrência\n",
       "Ampla Concorrência                   26458\n",
       "L2                                    6089\n",
       "L1                                    3444\n",
       "L6                                    3311\n",
       "L5                                    2817\n",
       "L10                                     65\n",
       "L13                                     35\n",
       "L9                                      34\n",
       "L14                                     34"
      ]
     },
     "metadata": {},
     "output_type": "display_data"
    },
    {
     "name": "stdout",
     "output_type": "stream",
     "text": [
      "\n",
      "\n",
      "****************************************************************************************************\n",
      "\n",
      "Histograma Original \n",
      "\n"
     ]
    },
    {
     "data": {
      "image/png": "[encoded data removed]",
      "text/plain": [
       "<Figure size 432x288 with 1 Axes>"
      ]
     },
     "metadata": {
      "needs_background": "light"
     },
     "output_type": "display_data"
    },
    {
     "name": "stdout",
     "output_type": "stream",
     "text": [
      "\n",
      "\n",
      "****************************************************************************************************\n",
      "\n",
      "Histograma com Log \n",
      "\n"
     ]
    },
    {
     "data": {
      "image/png": "[encoded data removed]",
      "text/plain": [
       "<Figure size 432x288 with 1 Axes>"
      ]
     },
     "metadata": {
      "needs_background": "light"
     },
     "output_type": "display_data"
    }
   ],
   "source": [
    "histograma_categoria(lista_espera, 'Categoria Concorrência')"
   ]
  },
  {
   "cell_type": "markdown",
   "id": "1a404004",
   "metadata": {},
   "source": [
    "### Histograma de frequência das notas entre os alunos classificados"
   ]
  },
  {
   "cell_type": "code",
   "execution_count": 11,
   "id": "a9ccf2f7",
   "metadata": {},
   "outputs": [],
   "source": [
    "def histograma_notas_classificados(dataset, atrib_notas, atrib_situacao):    \n",
    "    classificados = dataset[[atrib_notas, atrib_situacao]][dataset[atrib_situacao] == 'CLASSIFICADO']\n",
    "    nota_min, nota_max = min(classificados[atrib_notas]), max(classificados[atrib_notas])\n",
    "    n_bins = 5\n",
    "    range_notas = []\n",
    "    nota = nota_min\n",
    "    bins = [nota]\n",
    "    \n",
    "    for i in range(n_bins):\n",
    "        nota_str = str(nota)+'-'+str(nota+((nota_max-nota_min)/n_bins))\n",
    "        nota += (nota_max-nota_min)/n_bins\n",
    "        bins.append(nota)\n",
    "        range_notas.append(nota_str)\n",
    "    \n",
    "    range_notas = pd.cut(classificados[atrib_notas], bins, range_notas, include_lowest=True)\n",
    "    range_notas = pd.Series([str(intervalo) for intervalo in range_notas])\n",
    "    distribuicao_frequencia = range_notas.value_counts(sort=False).sort_index()\n",
    "    \n",
    "    # histograma\n",
    "    original_hist = plt.barh(np.array(distribuicao_frequencia.keys()), distribuicao_frequencia.values)\n",
    "    plt.xlabel('Frequência de alunos classificados')\n",
    "    plt.ylabel('Range de Notas')\n",
    "    plt.title('Distribuição das notas dos alunos classificados')\n",
    "    plt.show()"
   ]
  },
  {
   "cell_type": "code",
   "execution_count": 12,
   "id": "c0445b5b",
   "metadata": {},
   "outputs": [
    {
     "data": {
      "image/png": "[encoded data removed]",
      "text/plain": [
       "<Figure size 432x288 with 1 Axes>"
      ]
     },
     "metadata": {
      "needs_background": "light"
     },
     "output_type": "display_data"
    }
   ],
   "source": [
    "histograma_notas_classificados(lista_espera, 'Nota', 'Situação')"
   ]
  },
  {
   "cell_type": "markdown",
   "id": "5c3375de",
   "metadata": {},
   "source": [
    "# Correlação\n",
    "\n",
    "     - Para a correlação entre duas variáveis categóricas utilizamos a correlação V de Cramer"
   ]
  },
  {
   "cell_type": "code",
   "execution_count": 13,
   "id": "9fe1043d",
   "metadata": {},
   "outputs": [],
   "source": [
    "def correlacao_cramer(dataset, atrib_1, atrib_2):\n",
    "    matriz_confusao = pd.crosstab(dataset[atrib_1], dataset[atrib_2])\n",
    "    var_1 = matriz_confusao.columns.name\n",
    "    var_2 = matriz_confusao.index.name\n",
    "    matriz_cat_var = np.array(matriz_confusao)\n",
    "    \n",
    "    print('Matriz de confusão: {} x {}\\n\\n{}\\n'.format(atrib_1, atrib_2, matriz_cat_var))\n",
    "    \n",
    "    X2 = chi2_contingency(matriz_cat_var, correction=False)[0]\n",
    "    n = np.sum(matriz_cat_var)\n",
    "    menor_dimensao = min(matriz_cat_var.shape)-1\n",
    "\n",
    "    # Correlação de Cramer\n",
    "    return np.sqrt((X2/n) / menor_dimensao)"
   ]
  },
  {
   "cell_type": "code",
   "execution_count": 14,
   "id": "3253a26f",
   "metadata": {},
   "outputs": [
    {
     "name": "stdout",
     "output_type": "stream",
     "text": [
      "Matriz de confusão: Categoria Concorrência x Situação\n",
      "\n",
      "[[ 1229     0 25229]\n",
      " [  151    82  3211]\n",
      " [   15     0    50]\n",
      " [    5     0    30]\n",
      " [    6     0    28]\n",
      " [  458    18  5613]\n",
      " [  130   100  2587]\n",
      " [  368     4  2939]\n",
      " [    4     0    30]]\n",
      "\n"
     ]
    },
    {
     "data": {
      "text/plain": [
       "0.12391457008585047"
      ]
     },
     "execution_count": 14,
     "metadata": {},
     "output_type": "execute_result"
    }
   ],
   "source": [
    "correlacao_cramer(lista_espera, 'Categoria Concorrência', 'Situação')"
   ]
  },
  {
   "cell_type": "code",
   "execution_count": 15,
   "id": "c18adcc9",
   "metadata": {},
   "outputs": [
    {
     "name": "stdout",
     "output_type": "stream",
     "text": [
      "Matriz de confusão: Unidade x Situação\n",
      "\n",
      "[[  123    20   658]\n",
      " [ 1701   101 33447]\n",
      " [   53    13   235]\n",
      " [  101    12   738]\n",
      " [  191    30   553]\n",
      " [  197    28  4086]]\n",
      "\n"
     ]
    },
    {
     "data": {
      "text/plain": [
       "0.12315372160268237"
      ]
     },
     "execution_count": 15,
     "metadata": {},
     "output_type": "execute_result"
    }
   ],
   "source": [
    "correlacao_cramer(lista_espera, 'Unidade', 'Situação')"
   ]
  },
  {
   "cell_type": "markdown",
   "id": "4d748964",
   "metadata": {},
   "source": [
    "# Teste de normalidade"
   ]
  },
  {
   "cell_type": "code",
   "execution_count": 16,
   "id": "2f823dce",
   "metadata": {},
   "outputs": [],
   "source": [
    "def teste_normalidade(dataset):\n",
    "    p_valores = []\n",
    "    distancias = []\n",
    "    D_menor_p = []\n",
    "    \n",
    "    notas_std = scipy.stats.zscore(dataset['Nota'])\n",
    "    \n",
    "    notas_std = notas_std.flatten()\n",
    "    dist = getattr(scipy.stats, 'norm')\n",
    "    param = dist.fit(notas_std)\n",
    "    D, p = scipy.stats.kstest(notas_std, 'norm', args=param)\n",
    "    p = np.around(p, 5) \n",
    "    D = np.around(D, 5)\n",
    "\n",
    "    print ('Distância: {}\\np-valor:{}\\nD < p? {}'.format(D, p, D < p))"
   ]
  },
  {
   "cell_type": "code",
   "execution_count": 17,
   "id": "a645c4b8",
   "metadata": {},
   "outputs": [
    {
     "name": "stdout",
     "output_type": "stream",
     "text": [
      "Distância: 0.03471\n",
      "p-valor:0.0\n",
      "D < p? False\n"
     ]
    }
   ],
   "source": [
    "teste_normalidade(lista_espera)"
   ]
  },
  {
   "cell_type": "markdown",
   "id": "cf60a6ce",
   "metadata": {},
   "source": [
    "# *Best Fit Distribution*"
   ]
  },
  {
   "cell_type": "code",
   "execution_count": 18,
   "id": "e1788464",
   "metadata": {},
   "outputs": [],
   "source": [
    "nomes_distrib = ['beta', 'expon', 'gamma', 'lognorm', 'norm', 'pearson3', 't',\\\n",
    "              'triang', 'uniform', 'weibull_min', 'weibull_max']\n",
    "\n",
    "def best_fit_distrib(dataset, nomes_distrib):\n",
    "    p_valores = []\n",
    "    distancias = []\n",
    "    D_menor_p = []\n",
    "    \n",
    "    notas_std = scipy.stats.zscore(dataset['Nota'])\n",
    "    notas_std = notas_std.flatten()\n",
    "    \n",
    "    for distribuicao in nomes_distrib:\n",
    "        dist = getattr(scipy.stats, distribuicao)\n",
    "        param = dist.fit(notas_std)\n",
    "\n",
    "        if distribuicao != \"norm\":\n",
    "            D, p = scipy.stats.kstest(notas_std, distribuicao, args=param)\n",
    "        else:\n",
    "            D, p = scipy.stats.kstest(notas_std, distribuicao,  alternative='greater')\n",
    "            \n",
    "        p = np.around(p, 5)\n",
    "        p_valores.append(p)    \n",
    "        D = np.around(D, 5)\n",
    "        distancias.append(D)\n",
    "        if D<p: \n",
    "            D_menor_p.append(\"yes\") \n",
    "        else: \n",
    "            D_menor_p.append(\"no\")\n",
    "\n",
    "    resultados = pd.DataFrame()\n",
    "    resultados['distribuicao'] = nomes_distrib\n",
    "    resultados['distancias'] = distancias\n",
    "    resultados['p_valor'] = p_valores\n",
    "    resultados['D<p'] = D_menor_p\n",
    "    \n",
    "    resultados.sort_values(['p_valor'], ascending=False, inplace=True)\n",
    "\n",
    "\n",
    "    print ('\\nDistribuições ordenadas como best fit:')\n",
    "    print ('----------------------------------------')\n",
    "    print (resultados)"
   ]
  },
  {
   "cell_type": "code",
   "execution_count": 19,
   "id": "f49e4d39",
   "metadata": {},
   "outputs": [
    {
     "name": "stdout",
     "output_type": "stream",
     "text": [
      "\n",
      "Distribuições ordenadas como best fit:\n",
      "----------------------------------------\n",
      "   distribuicao  distancias  p_valor  D<p\n",
      "5      pearson3     0.00681  0.03940  yes\n",
      "2         gamma     0.00681  0.03929  yes\n",
      "10  weibull_max     0.00798  0.00912  yes\n",
      "0          beta     0.00831  0.00582   no\n",
      "3       lognorm     0.00856  0.00404   no\n",
      "1         expon     0.34826  0.00000   no\n",
      "4          norm     0.03471  0.00000   no\n",
      "6             t     0.03472  0.00000   no\n",
      "7        triang     0.08259  0.00000   no\n",
      "8       uniform     0.21361  0.00000   no\n",
      "9   weibull_min     0.03224  0.00000   no\n"
     ]
    }
   ],
   "source": [
    "best_fit_distrib(lista_espera, nomes_distrib)"
   ]
  },
  {
   "cell_type": "markdown",
   "id": "d9719751",
   "metadata": {},
   "source": [
    "# Gráficos"
   ]
  },
  {
   "cell_type": "code",
   "execution_count": 20,
   "id": "37fff3c5",
   "metadata": {},
   "outputs": [
    {
     "name": "stdout",
     "output_type": "stream",
     "text": [
      "\tGráfico da média de notas dos classificados por unidade\n"
     ]
    },
    {
     "data": {
      "image/png": "[encoded data removed]",
      "text/plain": [
       "<Figure size 432x288 with 1 Axes>"
      ]
     },
     "metadata": {
      "needs_background": "light"
     },
     "output_type": "display_data"
    }
   ],
   "source": [
    "media_por_unidade = media_notas_por_atributo(lista_espera, 'Unidade')\n",
    "media_classif_unidade = media_classificados_atributo(lista_espera, 'Unidade')\n",
    "print('\\tGráfico da média de notas dos classificados por unidade')\n",
    "grafico_linhas_unidade = plt.scatter(media_classif_unidade.keys(), media_classif_unidade.values())"
   ]
  },
  {
   "cell_type": "code",
   "execution_count": 21,
   "id": "4c2c5e1b",
   "metadata": {},
   "outputs": [
    {
     "name": "stdout",
     "output_type": "stream",
     "text": [
      "Quantidade de candidatos inscritos em cada cota\n"
     ]
    },
    {
     "data": {
      "image/png": "[encoded data removed]",
      "text/plain": [
       "<Figure size 432x288 with 1 Axes>"
      ]
     },
     "metadata": {
      "needs_background": "light"
     },
     "output_type": "display_data"
    }
   ],
   "source": [
    "cotas = lista_espera['Categoria Concorrência'].value_counts()\n",
    "cotas.rename({'Ampla Concorrência': 'AC'}, inplace=True)\n",
    "print('Quantidade de candidatos inscritos em cada cota')\n",
    "linhas_cotas = plt.plot(cotas.keys(), cotas.values)"
   ]
  }
 ],
 "metadata": {
  "kernelspec": {
   "display_name": "Python 3",
   "language": "python",
   "name": "python3"
  },
  "language_info": {
   "codemirror_mode": {
    "name": "ipython",
    "version": 3
   },
   "file_extension": ".py",
   "mimetype": "text/x-python",
   "name": "python",
   "nbconvert_exporter": "python",
   "pygments_lexer": "ipython3",
   "version": "3.8.8"
  }
 },
 "nbformat": 4,
 "nbformat_minor": 5
}
