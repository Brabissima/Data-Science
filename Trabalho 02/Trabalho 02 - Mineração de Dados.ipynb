{
 "cells": [
  {
   "cell_type": "code",
   "execution_count": 1,
   "id": "6f794f25",
   "metadata": {},
   "outputs": [],
   "source": [
    "import numpy as np\n",
    "import pandas as pd\n",
    "import matplotlib.pyplot as plt"
   ]
  },
  {
   "cell_type": "markdown",
   "id": "9a4575a8",
   "metadata": {},
   "source": [
    "### Leitura do dataset"
   ]
  },
  {
   "cell_type": "code",
   "execution_count": 2,
   "id": "87546248",
   "metadata": {},
   "outputs": [],
   "source": [
    "lista_espera = pd.read_csv('resultado_lista_de_espera.csv')"
   ]
  },
  {
   "cell_type": "code",
   "execution_count": 3,
   "id": "a3ca5294",
   "metadata": {
    "scrolled": false
   },
   "outputs": [
    {
     "data": {
      "text/html": [
       "<div>\n",
       "<style scoped>\n",
       "    .dataframe tbody tr th:only-of-type {\n",
       "        vertical-align: middle;\n",
       "    }\n",
       "\n",
       "    .dataframe tbody tr th {\n",
       "        vertical-align: top;\n",
       "    }\n",
       "\n",
       "    .dataframe thead th {\n",
       "        text-align: right;\n",
       "    }\n",
       "</style>\n",
       "<table border=\"1\" class=\"dataframe\">\n",
       "  <thead>\n",
       "    <tr style=\"text-align: right;\">\n",
       "      <th></th>\n",
       "      <th>Classif.</th>\n",
       "      <th>Inscr. Enem</th>\n",
       "      <th>Nome do Candidato</th>\n",
       "      <th>Nota</th>\n",
       "      <th>Unidade</th>\n",
       "      <th>Curso</th>\n",
       "      <th>Tipo Curso</th>\n",
       "      <th>Turno</th>\n",
       "      <th>Categoria Concorrência</th>\n",
       "      <th>Situação</th>\n",
       "    </tr>\n",
       "  </thead>\n",
       "  <tbody>\n",
       "    <tr>\n",
       "      <th>0</th>\n",
       "      <td>1</td>\n",
       "      <td>211010235888</td>\n",
       "      <td>ANA LUIZA LEMOS DE OLIVEIRA</td>\n",
       "      <td>642.84</td>\n",
       "      <td>Crateús</td>\n",
       "      <td>Ciência da Computação</td>\n",
       "      <td>Bacharelado</td>\n",
       "      <td>Integral</td>\n",
       "      <td>Ampla Concorrência</td>\n",
       "      <td>CLASSIFICADO</td>\n",
       "    </tr>\n",
       "    <tr>\n",
       "      <th>1</th>\n",
       "      <td>2</td>\n",
       "      <td>211015922282</td>\n",
       "      <td>KAIO LUCAS ARAUJO SILVA</td>\n",
       "      <td>642.12</td>\n",
       "      <td>Crateús</td>\n",
       "      <td>Ciência da Computação</td>\n",
       "      <td>Bacharelado</td>\n",
       "      <td>Integral</td>\n",
       "      <td>Ampla Concorrência</td>\n",
       "      <td>CLASSIFICADO</td>\n",
       "    </tr>\n",
       "    <tr>\n",
       "      <th>2</th>\n",
       "      <td>3</td>\n",
       "      <td>211010875618</td>\n",
       "      <td>MIGUEL BARBOSA FARIAS</td>\n",
       "      <td>636.64</td>\n",
       "      <td>Crateús</td>\n",
       "      <td>Ciência da Computação</td>\n",
       "      <td>Bacharelado</td>\n",
       "      <td>Integral</td>\n",
       "      <td>Ampla Concorrência</td>\n",
       "      <td>CLASSIFICADO</td>\n",
       "    </tr>\n",
       "    <tr>\n",
       "      <th>3</th>\n",
       "      <td>4</td>\n",
       "      <td>211005465250</td>\n",
       "      <td>RAONNY DELLANO MACEDO</td>\n",
       "      <td>633.18</td>\n",
       "      <td>Crateús</td>\n",
       "      <td>Ciência da Computação</td>\n",
       "      <td>Bacharelado</td>\n",
       "      <td>Integral</td>\n",
       "      <td>Ampla Concorrência</td>\n",
       "      <td>CLASSIFICADO</td>\n",
       "    </tr>\n",
       "    <tr>\n",
       "      <th>4</th>\n",
       "      <td>5</td>\n",
       "      <td>211015847166</td>\n",
       "      <td>KAIO VIEIRA NUNES</td>\n",
       "      <td>632.72</td>\n",
       "      <td>Crateús</td>\n",
       "      <td>Ciência da Computação</td>\n",
       "      <td>Bacharelado</td>\n",
       "      <td>Integral</td>\n",
       "      <td>Ampla Concorrência</td>\n",
       "      <td>CLASSIFICADO</td>\n",
       "    </tr>\n",
       "  </tbody>\n",
       "</table>\n",
       "</div>"
      ],
      "text/plain": [
       "   Classif.   Inscr. Enem            Nome do Candidato    Nota  Unidade  \\\n",
       "0         1  211010235888  ANA LUIZA LEMOS DE OLIVEIRA  642.84  Crateús   \n",
       "1         2  211015922282      KAIO LUCAS ARAUJO SILVA  642.12  Crateús   \n",
       "2         3  211010875618        MIGUEL BARBOSA FARIAS  636.64  Crateús   \n",
       "3         4  211005465250        RAONNY DELLANO MACEDO  633.18  Crateús   \n",
       "4         5  211015847166            KAIO VIEIRA NUNES  632.72  Crateús   \n",
       "\n",
       "                   Curso   Tipo Curso     Turno Categoria Concorrência  \\\n",
       "0  Ciência da Computação  Bacharelado  Integral     Ampla Concorrência   \n",
       "1  Ciência da Computação  Bacharelado  Integral     Ampla Concorrência   \n",
       "2  Ciência da Computação  Bacharelado  Integral     Ampla Concorrência   \n",
       "3  Ciência da Computação  Bacharelado  Integral     Ampla Concorrência   \n",
       "4  Ciência da Computação  Bacharelado  Integral     Ampla Concorrência   \n",
       "\n",
       "       Situação  \n",
       "0  CLASSIFICADO  \n",
       "1  CLASSIFICADO  \n",
       "2  CLASSIFICADO  \n",
       "3  CLASSIFICADO  \n",
       "4  CLASSIFICADO  "
      ]
     },
     "execution_count": 3,
     "metadata": {},
     "output_type": "execute_result"
    }
   ],
   "source": [
    "lista_espera.drop('Unnamed: 0', axis=1, inplace=True)\n",
    "lista_espera.head()"
   ]
  },
  {
   "cell_type": "markdown",
   "id": "2adff19b",
   "metadata": {},
   "source": [
    "### Medidas de Tendência Central"
   ]
  },
  {
   "cell_type": "code",
   "execution_count": 4,
   "id": "4e22c25a",
   "metadata": {},
   "outputs": [],
   "source": [
    "def media_notas_por_atributo(dataset, atributo):\n",
    "    atributos = np.unique(dataset[atributo])\n",
    "    media_atrib = {}\n",
    "    for atrib in atributos:\n",
    "        media_atrib[atrib] = np.mean(dataset['Nota'][dataset[atributo] == atrib])\n",
    "    return media_atrib"
   ]
  },
  {
   "cell_type": "code",
   "execution_count": 5,
   "id": "9510baae",
   "metadata": {},
   "outputs": [],
   "source": [
    "def media_classificados_atributo(dataset, atributo):\n",
    "    classificados = pd.concat([dataset[dataset['Situação'] == 'CLASSIFICADO'], dataset[dataset['Situação'] == 'CLASSIFICADO NA AC']])\n",
    "    atributos = np.unique(lista_espera[atributo])\n",
    "    media_classificados_atrib = {}\n",
    "    for atrib in atributos:\n",
    "        media_classificados_atrib[atrib] = np.mean(classificados['Nota'][classificados[atributo] == atrib])\n",
    "    \n",
    "    return media_classificados_atrib"
   ]
  },
  {
   "cell_type": "markdown",
   "id": "e3522199",
   "metadata": {},
   "source": [
    "### Médias por curso"
   ]
  },
  {
   "cell_type": "code",
   "execution_count": 6,
   "id": "289c097c",
   "metadata": {
    "scrolled": true
   },
   "outputs": [],
   "source": [
    "media_por_curso = media_notas_por_atributo(lista_espera, 'Curso')\n",
    "media_classif_curso = media_classificados_atributo(lista_espera, 'Curso')"
   ]
  },
  {
   "cell_type": "code",
   "execution_count": 7,
   "id": "ede92c9d",
   "metadata": {
    "scrolled": true
   },
   "outputs": [
    {
     "data": {
      "text/plain": [
       "{'Administração': 652.0701639344261,\n",
       " 'Agronomia': 597.3422641509435,\n",
       " 'Análise e Desenvolvimento de Sistemas': 588.1752380952381,\n",
       " 'Arquitetura e Urbanismo': 678.7317647058824,\n",
       " 'Biblioteconomia': 604.0924137931036,\n",
       " 'Biotecnologia': 665.6691666666667,\n",
       " 'Cinema e Audiovisual': 648.7725,\n",
       " 'Ciência da Computação': 620.7372549019608,\n",
       " 'Ciência de Dados': 560.1930434782608,\n",
       " 'Ciências Ambientais': 603.4980952380952,\n",
       " 'Ciências Atuariais': 621.8171428571429,\n",
       " 'Ciências Biológicas - Bacharelado': 657.4344444444445,\n",
       " 'Ciências Biológicas - Licenciatura': 652.26625,\n",
       " 'Ciências Contábeis': 639.8805,\n",
       " 'Ciências Econômicas': 644.5202857142856,\n",
       " 'Ciências Sociais – Bacharelado': 607.644,\n",
       " 'Ciências Sociais – Licenciatura': 602.0186666666667,\n",
       " 'Comunicação Social - Publicidade e Propaganda': 670.988,\n",
       " 'Dança – Bacharelado': 579.2583333333333,\n",
       " 'Dança – Licenciatura': 590.6025000000001,\n",
       " 'Design': 675.1885714285714,\n",
       " 'Design - Moda': 645.0423999999998,\n",
       " 'Design Digital': 612.7307142857143,\n",
       " 'Direito': 715.8302970297032,\n",
       " 'Economia Ecológica': 589.3933333333331,\n",
       " 'Educação Física – Bacharelado': 627.5606896551725,\n",
       " 'Educação Física – Licenciatura': 612.7963636363636,\n",
       " 'Enfermagem': 694.0672222222222,\n",
       " 'Engenharia Ambiental': 651.1857142857142,\n",
       " 'Engenharia Ambiental e Sanitária': 575.490303030303,\n",
       " 'Engenharia Civil': 632.8152631578946,\n",
       " 'Engenharia Elétrica': 639.5968888888891,\n",
       " 'Engenharia Mecânica': 613.4054545454545,\n",
       " 'Engenharia Metalúrgica': 622.0199999999999,\n",
       " 'Engenharia Química': 652.1670588235295,\n",
       " 'Engenharia de Alimentos': 603.651111111111,\n",
       " 'Engenharia de Computação': 646.8029729729731,\n",
       " 'Engenharia de Energias Renováveis': 670.82,\n",
       " 'Engenharia de Minas': 560.4300000000001,\n",
       " 'Engenharia de Pesca': 593.571304347826,\n",
       " 'Engenharia de Petróleo': 637.375238095238,\n",
       " 'Engenharia de Produção': 571.8899999999998,\n",
       " 'Engenharia de Produção Mecânica': 637.78625,\n",
       " 'Engenharia de Software': 604.0580821917807,\n",
       " 'Engenharia de Telecomunicações': 615.2613333333334,\n",
       " 'Estatística': 599.0661538461535,\n",
       " 'Farmácia': 685.7781818181818,\n",
       " 'Filosofia – Bacharelado': 604.7566666666667,\n",
       " 'Filosofia – Licenciatura': 605.8094117647059,\n",
       " 'Finanças': 631.1070270270269,\n",
       " 'Fisioterapia': 673.4562499999998,\n",
       " 'Física – Bacharelado': 628.06,\n",
       " 'Física – Licenciatura': 599.0231578947368,\n",
       " 'Gastronomia': 640.0490909090909,\n",
       " 'Geografia – Bacharelado': 611.0466666666666,\n",
       " 'Geografia – Licenciatura': 593.9733333333334,\n",
       " 'Geologia': 602.1219047619047,\n",
       " 'Gestão de Políticas Públicas': 615.0164705882353,\n",
       " 'História – Licenciatura': 633.3154838709677,\n",
       " 'Jornalismo': 667.7893333333333,\n",
       " 'Letras (Espanhol)': 595.2320000000001,\n",
       " 'Letras (Inglês)': 625.570588235294,\n",
       " 'Letras (Língua Portuguesa)': 618.4084615384617,\n",
       " 'Letras (Português-Alemão)': 585.9085714285715,\n",
       " 'Letras (Português-Espanhol)': 600.6272727272727,\n",
       " 'Letras (Português-Francês)': 598.488,\n",
       " 'Letras (Português-Inglês)': 622.1076923076923,\n",
       " 'Letras (Português-Italiano)': 593.730909090909,\n",
       " 'Matemática Industrial': 576.3533333333332,\n",
       " 'Matemática – Bacharelado': 601.0116666666667,\n",
       " 'Matemática – Licenciatura': 605.6220000000001,\n",
       " 'Medicina': 759.9165517241378,\n",
       " 'Música – Licenciatura': 575.1424137931036,\n",
       " 'Oceanografia': 612.6085714285716,\n",
       " 'Odontologia': 716.3586206896553,\n",
       " 'Pedagogia': 604.97125,\n",
       " 'Psicologia': 696.8866666666667,\n",
       " 'Química – Bacharelado': 626.7634782608693,\n",
       " 'Química – Licenciatura': 607.4019047619048,\n",
       " 'Redes de Computadores': 561.6770370370372,\n",
       " 'Secretariado Executivo': 613.4529411764705,\n",
       " 'Segurança da Informação': 545.1218181818181,\n",
       " 'Sistemas de Informação': 591.6973913043479,\n",
       " 'Sistemas e Mídias Digitais': 660.7214285714286,\n",
       " 'Teatro – Licenciatura': 588.4399999999999,\n",
       " 'Zootecnia': 610.6062068965515}"
      ]
     },
     "execution_count": 7,
     "metadata": {},
     "output_type": "execute_result"
    }
   ],
   "source": [
    "media_classif_curso"
   ]
  },
  {
   "cell_type": "markdown",
   "id": "1e6ecc94",
   "metadata": {},
   "source": [
    "### Médias por unidade"
   ]
  },
  {
   "cell_type": "code",
   "execution_count": 8,
   "id": "01967bb8",
   "metadata": {},
   "outputs": [],
   "source": [
    "media_por_unidade = media_notas_por_atributo(lista_espera, 'Unidade')\n",
    "media_classif_unidade = media_classificados_atributo(lista_espera, 'Unidade')"
   ]
  },
  {
   "cell_type": "code",
   "execution_count": 9,
   "id": "abb71ca9",
   "metadata": {
    "scrolled": false
   },
   "outputs": [
    {
     "data": {
      "text/plain": [
       "{'Crateús': 591.6850349650352,\n",
       " 'Fortaleza': 637.4718201997771,\n",
       " 'Itapajé': 564.0727272727273,\n",
       " 'Quixadá': 599.7007079646017,\n",
       " 'Russas': 588.2585520361991,\n",
       " 'Sobral': 648.2688}"
      ]
     },
     "execution_count": 9,
     "metadata": {},
     "output_type": "execute_result"
    }
   ],
   "source": [
    "media_classif_unidade"
   ]
  },
  {
   "cell_type": "markdown",
   "id": "04616dd7",
   "metadata": {},
   "source": [
    "### Boxplot das notas"
   ]
  },
  {
   "cell_type": "code",
   "execution_count": 22,
   "id": "ee181a82",
   "metadata": {},
   "outputs": [],
   "source": [
    "def boxplot(entrada):\n",
    "    plt.boxplot(np.array(list(entrada)))\n",
    "    plt.show()"
   ]
  },
  {
   "cell_type": "code",
   "execution_count": 31,
   "id": "3c1496b0",
   "metadata": {},
   "outputs": [
    {
     "name": "stdout",
     "output_type": "stream",
     "text": [
      "\n",
      "\tBOXPLOT DAS NOTAS MÉDIAS POR CURSO\n"
     ]
    },
    {
     "data": {
      "image/png": "[encoded data removed]",
      "text/plain": [
       "<Figure size 432x288 with 1 Axes>"
      ]
     },
     "metadata": {
      "needs_background": "light"
     },
     "output_type": "display_data"
    }
   ],
   "source": [
    "print('\\n\\tBOXPLOT DAS NOTAS MÉDIAS POR CURSO')\n",
    "boxplot_curso = boxplot(media_classif_curso.values())"
   ]
  },
  {
   "cell_type": "code",
   "execution_count": 32,
   "id": "17365689",
   "metadata": {},
   "outputs": [
    {
     "name": "stdout",
     "output_type": "stream",
     "text": [
      "\n",
      "\tBOXPLOT DAS NOTAS MÉDIAS POR UNIDADE\n"
     ]
    },
    {
     "data": {
      "image/png": "[encoded data removed]",
      "text/plain": [
       "<Figure size 432x288 with 1 Axes>"
      ]
     },
     "metadata": {
      "needs_background": "light"
     },
     "output_type": "display_data"
    }
   ],
   "source": [
    "print('\\n\\tBOXPLOT DAS NOTAS MÉDIAS POR UNIDADE')\n",
    "boxplot_unidade = boxplot(media_classif_unidade.values())"
   ]
  },
  {
   "cell_type": "markdown",
   "id": "8807f5cf",
   "metadata": {},
   "source": [
    "### Histograma da frequência de candidaturas por concorrência"
   ]
  },
  {
   "cell_type": "code",
   "execution_count": 50,
   "id": "1ba8e75e",
   "metadata": {},
   "outputs": [],
   "source": [
    "def histograma_categoria(dataset, attr_categoria):    \n",
    "    distribuicao_frequencia = dataset[attr_categoria].value_counts()\n",
    "    \n",
    "    # tabela de frequência\n",
    "    print('\\n\\n{}\\n\\nTabela de Frequência'.format('*'*100))\n",
    "    display(pd.DataFrame(distribuicao_frequencia))\n",
    "    \n",
    "    # histograma\n",
    "    print('\\n\\n{}\\n\\nHistograma Original \\n'.format('*'*100))\n",
    "    original_hist = plt.barh(np.array(distribuicao_frequencia.keys()), distribuicao_frequencia.values)\n",
    "    plt.xlabel('Quantidade de candidatos')\n",
    "    plt.ylabel('Categoria da concorrência')\n",
    "    plt.title('Distribuição de frequência por categoria')\n",
    "    plt.show()\n",
    "    \n",
    "    # constructing bars with log value to see the bar of categories which has not appeared so frequently\n",
    "    print('\\n\\n{}\\n\\nHistograma com Log \\n'.format('*'*100))\n",
    "    log_values = np.log(distribuicao_frequencia.values)\n",
    "    plt.xlabel('Quantidade de candidatos na escala log')\n",
    "    plt.ylabel('Categoria da concorrência')\n",
    "    plt.title('Distribuição de frequência por categoria')\n",
    "    log_hist = plt.barh(np.array(distribuicao_frequencia.keys()), log_values)\n",
    "    plt.show()"
   ]
  },
  {
   "cell_type": "code",
   "execution_count": 51,
   "id": "36656681",
   "metadata": {
    "scrolled": true
   },
   "outputs": [
    {
     "name": "stdout",
     "output_type": "stream",
     "text": [
      "\n",
      "\n",
      "****************************************************************************************************\n",
      "\n",
      "Tabela de Frequência\n"
     ]
    },
    {
     "data": {
      "text/html": [
       "<div>\n",
       "<style scoped>\n",
       "    .dataframe tbody tr th:only-of-type {\n",
       "        vertical-align: middle;\n",
       "    }\n",
       "\n",
       "    .dataframe tbody tr th {\n",
       "        vertical-align: top;\n",
       "    }\n",
       "\n",
       "    .dataframe thead th {\n",
       "        text-align: right;\n",
       "    }\n",
       "</style>\n",
       "<table border=\"1\" class=\"dataframe\">\n",
       "  <thead>\n",
       "    <tr style=\"text-align: right;\">\n",
       "      <th></th>\n",
       "      <th>Categoria Concorrência</th>\n",
       "    </tr>\n",
       "  </thead>\n",
       "  <tbody>\n",
       "    <tr>\n",
       "      <th>Ampla Concorrência</th>\n",
       "      <td>26458</td>\n",
       "    </tr>\n",
       "    <tr>\n",
       "      <th>L2</th>\n",
       "      <td>6089</td>\n",
       "    </tr>\n",
       "    <tr>\n",
       "      <th>L1</th>\n",
       "      <td>3444</td>\n",
       "    </tr>\n",
       "    <tr>\n",
       "      <th>L6</th>\n",
       "      <td>3311</td>\n",
       "    </tr>\n",
       "    <tr>\n",
       "      <th>L5</th>\n",
       "      <td>2817</td>\n",
       "    </tr>\n",
       "    <tr>\n",
       "      <th>L10</th>\n",
       "      <td>65</td>\n",
       "    </tr>\n",
       "    <tr>\n",
       "      <th>L13</th>\n",
       "      <td>35</td>\n",
       "    </tr>\n",
       "    <tr>\n",
       "      <th>L14</th>\n",
       "      <td>34</td>\n",
       "    </tr>\n",
       "    <tr>\n",
       "      <th>L9</th>\n",
       "      <td>34</td>\n",
       "    </tr>\n",
       "  </tbody>\n",
       "</table>\n",
       "</div>"
      ],
      "text/plain": [
       "                    Categoria Concorrência\n",
       "Ampla Concorrência                   26458\n",
       "L2                                    6089\n",
       "L1                                    3444\n",
       "L6                                    3311\n",
       "L5                                    2817\n",
       "L10                                     65\n",
       "L13                                     35\n",
       "L14                                     34\n",
       "L9                                      34"
      ]
     },
     "metadata": {},
     "output_type": "display_data"
    },
    {
     "name": "stdout",
     "output_type": "stream",
     "text": [
      "\n",
      "\n",
      "****************************************************************************************************\n",
      "\n",
      "Histograma Original \n",
      "\n"
     ]
    },
    {
     "data": {
      "image/png": "[encoded data removed]",
      "text/plain": [
       "<Figure size 432x288 with 1 Axes>"
      ]
     },
     "metadata": {
      "needs_background": "light"
     },
     "output_type": "display_data"
    },
    {
     "name": "stdout",
     "output_type": "stream",
     "text": [
      "\n",
      "\n",
      "****************************************************************************************************\n",
      "\n",
      "Histograma com Log \n",
      "\n"
     ]
    },
    {
     "data": {
      "image/png": "[encoded data removed]",
      "text/plain": [
       "<Figure size 432x288 with 1 Axes>"
      ]
     },
     "metadata": {
      "needs_background": "light"
     },
     "output_type": "display_data"
    }
   ],
   "source": [
    "histograma_categoria(lista_espera, 'Categoria Concorrência')"
   ]
  },
  {
   "cell_type": "markdown",
   "id": "5c3375de",
   "metadata": {},
   "source": [
    "Existe correlação entre nota e curso? Existe correlação entre nota e categoria de concorrência?\n",
    "\n",
    "     - Point Biserial"
   ]
  },
  {
   "cell_type": "code",
   "execution_count": null,
   "id": "0ef2b201",
   "metadata": {},
   "outputs": [],
   "source": []
  }
 ],
 "metadata": {
  "kernelspec": {
   "display_name": "Python 3",
   "language": "python",
   "name": "python3"
  },
  "language_info": {
   "codemirror_mode": {
    "name": "ipython",
    "version": 3
   },
   "file_extension": ".py",
   "mimetype": "text/x-python",
   "name": "python",
   "nbconvert_exporter": "python",
   "pygments_lexer": "ipython3",
   "version": "3.8.8"
  }
 },
 "nbformat": 4,
 "nbformat_minor": 5
}
